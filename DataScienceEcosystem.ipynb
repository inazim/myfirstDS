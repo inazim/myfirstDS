{
 "cells": [
  {
   "cell_type": "markdown",
   "id": "e376673f-0217-40f0-be6c-ae46000261f9",
   "metadata": {},
   "source": [
    "# Data Science Tools and Eco System"
   ]
  },
  {
   "cell_type": "markdown",
   "id": "a091081b-ee87-43ab-9cfd-0baaa672259a",
   "metadata": {},
   "source": [
    "# Data Science Tools and Eco System"
   ]
  },
  {
   "cell_type": "code",
   "execution_count": null,
   "id": "f23b5e61-6b81-4ed2-a624-dc4af747e09f",
   "metadata": {},
   "outputs": [],
   "source": [
    "In this notebook, Data Science Tools and Eco System is summarized"
   ]
  },
  {
   "cell_type": "markdown",
   "id": "9f333ed6-cdc9-49bd-956f-5896545efa48",
   "metadata": {},
   "source": [
    "In this notebook, Data Science Tools and Eco System is summarized"
   ]
  },
  {
   "cell_type": "markdown",
   "id": "3fb582fc-8fe4-4066-8b9f-671c5f99d822",
   "metadata": {},
   "source": [
    "**Objectives:**\n",
    "- Introduction to Python,R, Java , Julia and other Languages\n",
    "- Introduction to IDE like Anacondas, RStudio and Jupyter\n",
    "- Libraries, API's, Data Asset Exchange\n",
    "\n",
    "\n",
    "\n",
    "\n"
   ]
  },
  {
   "cell_type": "markdown",
   "id": "816cb32c-3af2-4814-b884-57458cbd1ab4",
   "metadata": {},
   "source": [
    "**Objectives:**\n",
    "- Introduction to Python,R, Java , Julia and other Languages\n",
    "- Introduction to IDE like Anacondas, RStudio and Jupyter\n",
    "- Libraries, API's, Data Asset Exchange\n"
   ]
  },
  {
   "cell_type": "markdown",
   "id": "b12a1099-5acd-4870-9b04-1dedc9470b36",
   "metadata": {},
   "source": [
    "Some of the popular languages that Data Scientists use are:\n",
    "1. Python\n",
    "2. R\n",
    "3. Java\n",
    "4. Julia\n",
    "5. Scala\n",
    "6. C++"
   ]
  },
  {
   "cell_type": "markdown",
   "id": "d32a79b3-9ee4-4b40-888a-201043472869",
   "metadata": {},
   "source": [
    "Some of the popular languages that Data Scientists use are:\n",
    "1. Python\n",
    "2. R\n",
    "3. Java\n",
    "4. Julia\n",
    "5. Scala\n",
    "6. C++"
   ]
  },
  {
   "cell_type": "markdown",
   "id": "c1d26400-454a-451b-bd26-8df50900db36",
   "metadata": {},
   "source": [
    "Some of the commonly used libraries used by Data Scientists include:\n",
    "1. NumPy\n",
    "2. Pandas\n",
    "3. Matplotlib\n",
    "4. PyTorch\n",
    "5. TensorFlow\n",
    "6. dplyr\n",
    "\n"
   ]
  },
  {
   "cell_type": "markdown",
   "id": "f066b354-b874-4997-84f9-dc4345159b2c",
   "metadata": {},
   "source": [
    "Some of the commonly used libraries used by Data Scientists include:\n",
    "1. NumPy\n",
    "2. Pandas\n",
    "3. Matplotlib\n",
    "4. PyTorch\n",
    "5. TensorFlow\n",
    "6. dplyr\n"
   ]
  },
  {
   "cell_type": "markdown",
   "id": "a1958d90-7a83-4b88-8dcb-d2b7883fff18",
   "metadata": {},
   "source": [
    "| Data Science Tools |\n",
    "----------------------\n",
    "| Anacondos |\n",
    "| R Studio  |\n",
    "| Jupyter   |\n",
    "| Apache Spark |\n"
   ]
  },
  {
   "cell_type": "markdown",
   "id": "58737c2b-4839-465d-a9a6-2a3e1e2919f8",
   "metadata": {},
   "source": [
    "| Data Science Tools |\n",
    "----------------------\n",
    "| Anacondos |\n",
    "| R Studio  |\n",
    "| Jupyter   |\n",
    "| Apache Spark |\n",
    "\n"
   ]
  },
  {
   "cell_type": "markdown",
   "id": "772bc037-3898-4e54-b829-8415f398ad26",
   "metadata": {},
   "source": [
    "### Below are a few examples of evaluating arithmetic expressions in Python."
   ]
  },
  {
   "cell_type": "markdown",
   "id": "49a89149-88d3-468e-81a2-a5216b51fa5d",
   "metadata": {},
   "source": [
    "### Below are a few examples of evaluating arithmetic expressions in Python."
   ]
  },
  {
   "cell_type": "code",
   "execution_count": 8,
   "id": "2b25af2e-0869-4cfc-ab11-36fb158d9405",
   "metadata": {},
   "outputs": [
    {
     "data": {
      "text/plain": [
       "17"
      ]
     },
     "execution_count": 8,
     "metadata": {},
     "output_type": "execute_result"
    }
   ],
   "source": [
    "## This a simple arithmetic expression to mutiply then add integers,As () takes precdence it will multiply first and then Add\n",
    "(3*4)+5"
   ]
  },
  {
   "cell_type": "code",
   "execution_count": 4,
   "id": "8c614d79-1208-4c37-88bb-7929015232f3",
   "metadata": {},
   "outputs": [
    {
     "data": {
      "text/plain": [
       "3.3333333333333335"
      ]
     },
     "execution_count": 4,
     "metadata": {},
     "output_type": "execute_result"
    }
   ],
   "source": [
    "## This will convert 200 minutes to hours by diving by 60\n",
    "200/60"
   ]
  },
  {
   "cell_type": "markdown",
   "id": "e3d0ac5e-6509-4010-b75f-9e3698abd206",
   "metadata": {},
   "source": [
    "## Author\n",
    "Nazim Syed"
   ]
  },
  {
   "cell_type": "markdown",
   "id": "51ac31f8-d35d-4fb8-8d7a-fff6940d2d17",
   "metadata": {},
   "source": [
    "## Author\n",
    "Nazim Syed"
   ]
  },
  {
   "cell_type": "markdown",
   "id": "21e324d8-6f79-4b4a-8449-f55529464c4e",
   "metadata": {},
   "source": []
  }
 ],
 "metadata": {
  "kernelspec": {
   "display_name": "Python",
   "language": "python",
   "name": "conda-env-python-py"
  },
  "language_info": {
   "codemirror_mode": {
    "name": "ipython",
    "version": 3
   },
   "file_extension": ".py",
   "mimetype": "text/x-python",
   "name": "python",
   "nbconvert_exporter": "python",
   "pygments_lexer": "ipython3",
   "version": "3.7.12"
  }
 },
 "nbformat": 4,
 "nbformat_minor": 5
}
